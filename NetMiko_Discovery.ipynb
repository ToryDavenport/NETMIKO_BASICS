{
 "cells": [
  {
   "cell_type": "markdown",
   "metadata": {},
   "source": [
    "<H1>Welcome to my NetMiko Examples Jupyter Notesbook.</H1>\n",
    "\n",
    "<p>I will be using this notebook to document display and share information about netmiko as I learn.</P>"
   ]
  },
  {
   "cell_type": "markdown",
   "metadata": {},
   "source": [
    "<p>First, lets get started by installing NetMiko.</P>"
   ]
  },
  {
   "cell_type": "code",
   "execution_count": 1,
   "metadata": {},
   "outputs": [
    {
     "name": "stdout",
     "output_type": "stream",
     "text": [
      "Requirement already satisfied: netmiko in /home/dev/.local/lib/python3.8/site-packages (3.3.2)\n",
      "Requirement already satisfied: tenacity in /home/dev/.local/lib/python3.8/site-packages (from netmiko) (6.3.1)\n",
      "Requirement already satisfied: setuptools>=38.4.0 in /usr/lib/python3/dist-packages (from netmiko) (45.2.0)\n",
      "Requirement already satisfied: scp>=0.13.2 in /home/dev/.local/lib/python3.8/site-packages (from netmiko) (0.13.3)\n",
      "Requirement already satisfied: paramiko>=2.6.0 in /usr/lib/python3/dist-packages (from netmiko) (2.6.0)\n",
      "Requirement already satisfied: ntc-templates in /home/dev/.local/lib/python3.8/site-packages (from netmiko) (1.6.0)\n",
      "Requirement already satisfied: pyserial in /home/dev/.local/lib/python3.8/site-packages (from netmiko) (3.5)\n",
      "Requirement already satisfied: six>=1.9.0 in /usr/lib/python3/dist-packages (from tenacity->netmiko) (1.14.0)\n",
      "Requirement already satisfied: textfsm>=1.1.0 in /home/dev/.local/lib/python3.8/site-packages (from ntc-templates->netmiko) (1.1.0)\n",
      "Requirement already satisfied: future in /usr/lib/python3/dist-packages (from textfsm>=1.1.0->ntc-templates->netmiko) (0.18.2)\n",
      "Note: you may need to restart the kernel to use updated packages.\n"
     ]
    }
   ],
   "source": [
    "pip install netmiko"
   ]
  },
  {
   "cell_type": "markdown",
   "metadata": {},
   "source": [
    "<p>Next, we will import create a Python dictionary representing a Cisco device.</p>"
   ]
  },
  {
   "cell_type": "code",
   "execution_count": 2,
   "metadata": {},
   "outputs": [],
   "source": [
    "from netmiko import ConnectHandler\n",
    "\n",
    "DC_OOB_SW1 = {\n",
    "    'device_type': 'cisco_ios',\n",
    "    'host': '172.16.254.1',\n",
    "    'username': 'admin',\n",
    "    'password': 'cisco',\n",
    "    'port': '22',\n",
    "    'secret': 'cisco'\n",
    "}"
   ]
  },
  {
   "cell_type": "markdown",
   "metadata": {},
   "source": [
    "<p>Establish an SSH connection to the device and pass in the dictionary crated above.</p>"
   ]
  },
  {
   "cell_type": "code",
   "execution_count": 3,
   "metadata": {},
   "outputs": [],
   "source": [
    "net_connect = ConnectHandler(**DC_OOB_SW1)"
   ]
  },
  {
   "cell_type": "markdown",
   "metadata": {},
   "source": [
    "<p>Execute show commands on the device.</p>"
   ]
  },
  {
   "cell_type": "code",
   "execution_count": 14,
   "metadata": {},
   "outputs": [
    {
     "name": "stdout",
     "output_type": "stream",
     "text": [
      "Capability Codes: R - Router, T - Trans Bridge, B - Source Route Bridge\n",
      "                  S - Switch, H - Host, I - IGMP, r - Repeater, P - Phone, \n",
      "                  D - Remote, C - CVTA, M - Two-port Mac Relay \n",
      "\n",
      "Device ID        Local Intrfce     Holdtme    Capability  Platform  Port ID\n",
      "DC-OOB-RTR       Gig 0/0           120              R B             Gig 0/0\n",
      "DC-SERVER-SW.torydavenport.com\n",
      "                 Gig 1/1           161             R S I            Gig 0/0\n",
      "DC-CORE-SW1.torydavenport.com\n",
      "                 Gig 0/1           163             R S I            Gig 0/0\n",
      "NTP              Gig 0/3           139              R B             Gig 0/0\n",
      "DHCP-DNS         Gig 1/3           156              R B             Gig 0/0\n",
      "CAMPUS-OOB-SW1   Gig 1/0           146             R S I            Gig 1/2\n",
      "DC-RTR-INET-MPLS.torydavenport.com\n",
      "                 Gig 0/2           165              R B             Gig 0/0\n",
      "\n",
      "Total cdp entries displayed : 7\n",
      "Cisco IOS Software, vios_l2 Software (vios_l2-ADVENTERPRISEK9-M), Version 15.2(CML_NIGHTLY_20180619)FLO_DSGS7, EARLY DEPLOYMENT DEVELOPMENT BUILD, synced to  V152_6_0_81_E\n",
      "Technical Support: http://www.cisco.com/techsupport\n",
      "Copyright (c) 1986-2018 by Cisco Systems, Inc.\n",
      "Compiled Tue 19-Jun-18 06:06 by mmen\n",
      "\n",
      "\n",
      "ROM: Bootstrap program is IOSv\n",
      "\n",
      "DC-OOB-SW1 uptime is 3 days, 5 hours, 23 minutes\n",
      "System returned to ROM by reload\n",
      "System image file is \"flash0:/vios_l2-adventerprisek9-m\"\n",
      "Last reload reason: Unknown reason\n",
      "\n",
      "\n",
      "\n",
      "This product contains cryptographic features and is subject to United\n",
      "States and local country laws governing import, export, transfer and\n",
      "use. Delivery of Cisco cryptographic products does not imply\n",
      "third-party authority to import, export, distribute or use encryption.\n",
      "Importers, exporters, distributors and users are responsible for\n",
      "compliance with U.S. and local country laws. By using this product you\n",
      "agree to comply with applicable laws and regulations. If you are unable\n",
      "to comply with U.S. and local laws, return this product immediately.\n",
      "\n",
      "A summary of U.S. laws governing Cisco cryptographic products may be found at:\n",
      "http://www.cisco.com/wwl/export/crypto/tool/stqrg.html\n",
      "\n",
      "If you require further assistance please contact us by sending email to\n",
      "export@cisco.com.\n",
      "\n",
      "Cisco IOSv () processor (revision 1.0) with 935161K/111616K bytes of memory.\n",
      "Processor board ID 97EPYA754H9\n",
      "1 Virtual Ethernet interface\n",
      "10 Gigabit Ethernet interfaces\n",
      "DRAM configuration is 72 bits wide with parity disabled.\n",
      "256K bytes of non-volatile configuration memory.\n",
      "2097152K bytes of ATA System CompactFlash 0 (Read/Write)\n",
      "0K bytes of ATA CompactFlash 1 (Read/Write)\n",
      "0K bytes of ATA CompactFlash 2 (Read/Write)\n",
      "0K bytes of ATA CompactFlash 3 (Read/Write)\n",
      "\n",
      "Configuration register is 0x101\n",
      "\n",
      "Interface              IP-Address      OK? Method Status                Protocol\n",
      "GigabitEthernet0/0     196.0.0.2       YES manual up                    up      \n",
      "GigabitEthernet0/1     unassigned      YES unset  up                    up      \n",
      "GigabitEthernet0/2     unassigned      YES unset  up                    up      \n",
      "GigabitEthernet0/3     unassigned      YES unset  up                    up      \n",
      "GigabitEthernet1/0     unassigned      YES unset  up                    up      \n",
      "GigabitEthernet1/1     unassigned      YES unset  up                    up      \n",
      "GigabitEthernet1/2     unassigned      YES unset  up                    up      \n",
      "GigabitEthernet1/3     unassigned      YES unset  up                    up      \n",
      "Vlan254                172.16.254.1    YES manual up                    up      \n"
     ]
    }
   ],
   "source": [
    "output = net_connect.send_command('show cdp nei')\n",
    "print(output)\n",
    "\n",
    "output = net_connect.send_command('show version')\n",
    "print(output)\n",
    "\n",
    "output = net_connect.send_command('show ip int bri')\n",
    "print(output)"
   ]
  },
  {
   "cell_type": "code",
   "execution_count": null,
   "metadata": {},
   "outputs": [],
   "source": []
  }
 ],
 "metadata": {
  "kernelspec": {
   "display_name": "Python 3",
   "language": "python",
   "name": "python3"
  },
  "language_info": {
   "codemirror_mode": {
    "name": "ipython",
    "version": 3
   },
   "file_extension": ".py",
   "mimetype": "text/x-python",
   "name": "python",
   "nbconvert_exporter": "python",
   "pygments_lexer": "ipython3",
   "version": "3.8.5"
  }
 },
 "nbformat": 4,
 "nbformat_minor": 4
}
